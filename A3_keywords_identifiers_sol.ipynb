{
 "cells": [
  {
   "cell_type": "markdown",
   "id": "9097b5c5-bc5c-412f-a978-e613cf9c1732",
   "metadata": {},
   "source": [
    "A3 : Python Keywords,Identifiers, Comments,Indentation and Statements (solution) date : 03/03/2024"
   ]
  },
  {
   "cell_type": "markdown",
   "id": "c2e6a955-94f2-458d-bc32-54ea0b42e6b7",
   "metadata": {},
   "source": [
    "Q1. Explain the significance of Python keywords and provide examples of five keywords"
   ]
  },
  {
   "cell_type": "markdown",
   "id": "d8382f5e-24e9-4cd2-9db9-1d5cb817fd3b",
   "metadata": {},
   "source": [
    "# solution\n",
    "Every programing language has special reserved words which we usually call them as a \"keywords\". They have specific meanings and restrictions \n",
    "around how they should be used. Basically they are considered as the fundamental building blocks of any python program.\n",
    "Example : Print, True, False, lambda, return."
   ]
  },
  {
   "cell_type": "markdown",
   "id": "9a55c8a1-c488-42eb-8c8e-69d1317b2572",
   "metadata": {},
   "source": [
    "Q2. Describe the rules for defining identifiers in Python and provide an example."
   ]
  },
  {
   "cell_type": "markdown",
   "id": "2595fa23-1ef4-469b-9605-e2c803e0f07b",
   "metadata": {},
   "source": [
    "# solution\n",
    "Indentifier : An identifier are user defined name given to a variable, function, class, modules and other objects.\n",
    "              Its main objective is to make codes more readable and easier to understand by giving things relevant names.\n",
    "\n",
    "Rules For Writing Identifier In Python.\n",
    "\n",
    "1. Keywords cannot be used as identifier names.\n",
    "2. Python identifier can contain lower case alphabet(a-z), upper case alphabet(A-Z), digits(0-9), and underscore(_).\n",
    "3. Identifier names cannot starts with a digits or a special character.\n",
    "   (example : 10test, @num these are invalid identifier names.)\n",
    "4. Identifier names always starts with a lower or upper case alphabet or underscore.\n",
    "   (example : num1, _test these are valid identifier names.)\n",
    "5. There is no limit for the length for the character used for naming the identifier.\n",
    "6. Python identifier are case sensitive as \"abc\" & \"ABC\" both names are different.\n",
    "   Its better to use lower case for naming a identifier as it will make the codes consistant."
   ]
  },
  {
   "cell_type": "markdown",
   "id": "dd5b1737-9b8a-45c0-a678-dc1c941bce21",
   "metadata": {},
   "source": [
    "Q3. What are comments in Python, and why are they useful ? Provide an example."
   ]
  },
  {
   "cell_type": "markdown",
   "id": "fd74a96b-f230-45a1-ac00-8ae96d197362",
   "metadata": {},
   "source": [
    "# solution\n",
    "Comments in python are basically used to add extra explanation to a code which we are writing. While working in the organisation\n",
    "we work in a team on a project and each members are assigned different part of codes to write. So, in order to make better understanding of the \n",
    "codes written by other members it is requied to add the comments and it enhances the readability of the codes.\n",
    "\n",
    "Also while executing the codes the things which are written in the comments are not executed.\n",
    "\n",
    "Ways to write comments :\n",
    "1. Comments can be added by putting \"#\" in front of the line \n",
    "2. By selecting all the statements and clicking \"control + /\".\n",
    "3. By putting \"\"\" (three inverted comma) in the beginning and at the last.\n",
    "\n",
    "Example \n",
    "# assigning variable \"a\" value 5. {--------- comment--------}.\n",
    "a = 5"
   ]
  },
  {
   "cell_type": "markdown",
   "id": "dce23460-a350-4c18-988c-c903d9383ab9",
   "metadata": {},
   "source": [
    "Q4. Why is proper indentation important in Python ?"
   ]
  },
  {
   "cell_type": "markdown",
   "id": "e51fd262-4a4a-464b-88d0-613ab9de226c",
   "metadata": {},
   "source": [
    "# solution\n",
    "\n",
    "Many a times it is required to treat more than one statements in a program as a block. \n",
    "Different programming languages use different techniques to define scope and extent of block of statements in constructs like \n",
    "class, function, conditional and loop. In C and C++ for example, statements inside curly brackets are treated as a block.\n",
    "Python uses uniform indentation to mark block of statements.\n",
    "\n",
    "Before beginning of block symbol : is used. First and subsequent statements in block are written by leaving additional (but uniform) whitespace \n",
    "(called indent)."
   ]
  },
  {
   "cell_type": "markdown",
   "id": "9a9e1d35-38ac-4852-bd54-54731a5d610b",
   "metadata": {},
   "source": [
    "Q5. What happens if indentation is incorrect in Python ?"
   ]
  },
  {
   "cell_type": "markdown",
   "id": "862241ef-e41d-4235-8ebc-174e8a52e0d0",
   "metadata": {},
   "source": [
    "# solution\n",
    "\n",
    "If indentation is incorrect in python then it will return an error when it will execute the codes.\n",
    "Because python is unable to identify which block of code belongs to which part of codes.\n",
    "So, on the whole it will return an error."
   ]
  },
  {
   "cell_type": "markdown",
   "id": "58220d06-0405-4a52-a559-45e33e5787e0",
   "metadata": {},
   "source": [
    "Q6. Differentiate between expression and statement in Python with examples."
   ]
  },
  {
   "cell_type": "markdown",
   "id": "7e20b703-86c2-4241-a45b-45ece3adbe8c",
   "metadata": {},
   "source": [
    "# solution\n",
    "Expression : An expression represents something, which python evalutes and which then produces a value.\n",
    "             It will always return a value.\n",
    "Statement : A statement is a programming instruction that does something.\n",
    "            Statement can be considered as a combination of expression as well as assignment. \n",
    "            {Statement = Expression + Assignment}\n",
    "Example :\n",
    "\n",
    "3 + 2        # Expression\n",
    "x = 1        # Statement\n",
    "y = x + 1    # Statement\n",
    "2 * 2        # Expression\n",
    "print(y)     # Statement\n",
    "print(2*2)   # Statement"
   ]
  }
 ],
 "metadata": {
  "kernelspec": {
   "display_name": "Python 3 (ipykernel)",
   "language": "python",
   "name": "python3"
  },
  "language_info": {
   "codemirror_mode": {
    "name": "ipython",
    "version": 3
   },
   "file_extension": ".py",
   "mimetype": "text/x-python",
   "name": "python",
   "nbconvert_exporter": "python",
   "pygments_lexer": "ipython3",
   "version": "3.10.8"
  }
 },
 "nbformat": 4,
 "nbformat_minor": 5
}
